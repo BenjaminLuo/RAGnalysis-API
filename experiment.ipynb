{
 "cells": [
  {
   "cell_type": "markdown",
   "metadata": {},
   "source": [
    "### Experimentation Notebook\n",
    "\n",
    "This notebook demonstrates how calls can be made to the Azure Functions App once it is deployed"
   ]
  },
  {
   "cell_type": "code",
   "execution_count": null,
   "metadata": {},
   "outputs": [],
   "source": [
    "import requests\n",
    "import os\n",
    "import dotenv\n",
    "\n",
    "dotenv.load_dotenv()\n",
    "\n",
    "api_key = os.getenv('FUNCTION_KEY')  # API key for authenticating with Azure Function App endpoint\n",
    "prompt = 'Why study medicine?'\n",
    "\n",
    "model = 'gpt35a'  # model name: [mistral, llama, gpt35a, gpt35b, gpt4]\n",
    "use_rag = False  # whether to return a RAG response or a generic response without additional context\n",
    "\n",
    "response = requests.post(\n",
    "    url=f'https://med-app.azurewebsites.net/api/{model}?code={api_key}', \n",
    "    params={\n",
    "        \"body\": prompt, \n",
    "        \"use_rag\": use_rag,\n",
    "        \"temperature\": 0.9\n",
    "        \"top_p\": 0.9\n",
    "        \"do_sample\": True\n",
    "        \"frequency_penalty\": 0\n",
    "        \"presence_penalty\": 0\n",
    "        \"max_new_tokens\": 200\n",
    "        \"chunk_limit\": 150\n",
    "        \"k\": 3\n",
    "    }\n",
    ").json()\n",
    "\n",
    "print(\"Response: \", response['response'], '\\n')\n",
    "print(\"Sources: \", response['source'], '\\n')\n",
    "print(\"Context: \")\n",
    "for i, item in enumerate(response['context']):\n",
    "    print(f'{i+1}. {item}')"
   ]
  },
  {
   "cell_type": "markdown",
   "metadata": {},
   "source": [
    "To help visualize the dataset, the below code loads the CSV into a dataframe that shows each column"
   ]
  },
  {
   "cell_type": "code",
   "execution_count": null,
   "metadata": {},
   "outputs": [],
   "source": [
    "import pandas as pd\n",
    "\n",
    "df = pd.read_csv('data/data.csv')\n",
    "df.head()"
   ]
  }
 ],
 "metadata": {
  "kernelspec": {
   "display_name": ".venv",
   "language": "python",
   "name": "python3"
  },
  "language_info": {
   "codemirror_mode": {
    "name": "ipython",
    "version": 3
   },
   "file_extension": ".py",
   "mimetype": "text/x-python",
   "name": "python",
   "nbconvert_exporter": "python",
   "pygments_lexer": "ipython3",
   "version": "3.10.12"
  }
 },
 "nbformat": 4,
 "nbformat_minor": 2
}
