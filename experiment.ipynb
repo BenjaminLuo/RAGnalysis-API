{
 "cells": [
  {
   "cell_type": "markdown",
   "metadata": {},
   "source": [
    "### Experimentation Notebook\n",
    "\n",
    "This notebook demonstrates how calls can be made to the Azure Functions App once it is deployed"
   ]
  },
  {
   "cell_type": "code",
   "execution_count": 1,
   "metadata": {},
   "outputs": [
    {
     "name": "stdout",
     "output_type": "stream",
     "text": [
      "Response:  There are several reasons why people choose to pursue a career in medicine:\n",
      "\n",
      "1. Desire to help others: Medicine offers the opportunity to make a positive impact on people's lives and contribute to their health and well-being. The desire to alleviate suffering and improve the lives of others is a common motivation for pursuing a career in medicine.\n",
      "\n",
      "2. Intellectual challenge: Medicine is a field that requires continuous learning and problem-solving. The complexity of the human body and the ever-evolving nature of medical knowledge provide a constant intellectual challenge, which can be appealing to individuals who enjoy learning and problem-solving.\n",
      "\n",
      "3. Job security and stability: Healthcare is a rapidly growing industry, and there is a high demand for healthcare professionals. Choosing a career in medicine often provides job security and stability, as there will always be a need for healthcare providers.\n",
      "\n",
      "4. Personal fulfillment: Many individuals find fulfillment in their work when they are able to positively impact the lives of others. The ability to save lives, improve health outcomes, and make a \n",
      "\n",
      "Sources:                                                      title  similarity\n",
      "                                             Observations    0.830829\n",
      "Why Should You Study Medicine in UK | Medicine in the UK?    0.830782\n",
      "                                      Say No To Medicines    0.826590 \n",
      "\n",
      "Context: \n",
      "1. to submit their reasoning for prescribing a medicine before the insurance company decides if it wants to reject or approve the physician’s decision. In medical school we were asked “What do you give for a patient with X disease?” in residency we ask “What medications will the insurance cover for X disease?”\n",
      "2. Medicine has grown to be one of the most sought studies areas for students across the world. With their dreams of becoming neurosurgeons, dermatologists, and even dentists, students want to study medicine at the best institute. Most of the students choose to study abroad because of better facilities and placement opportunities. But, students get stuck at the point where they have to choose a country to pursue their favorite medicine study. At such times, it becomes highly important that they get a professional to advise and support them. GoToUniversity is a platform for students who want to study abroad but are researching the best institutions across the world. We have helped many students pursue their dream of studying abroad. When it comes to medicine, we have seen, in our years of experience, that students pick the UK as their favourite destination. Here are some reasons to Study Medicine in The UK: World-Leading Medical Education: UK is home to more than 70 universities that rank\n",
      "3. Let food be thy medicine “Drugs take your life away.” Drugs or medicines are not the way to deal with stress. What people eat can be medicine or poison? They change the way your brain works. This can lead to depression, anxiety, and other mental illnesses. If you already have a mental health issue, medicines help you give relief for some time but not permanent. The best way to deal with stress is to confront it without using medicines. Try to identify what is causing your stress, and find a healthier way to handle it. Some good options are: Replace medicines with healthy food, hanging out with your friends who do not use drugs, doing something you enjoy doing like exercise or sports, art, music, meditation or yoga, etc. Rea says. “As a physician, nutrition is one of the most powerful things you can change to reverse the effects of chronic disease.”Studies have explored evidence that dietary changes can slow inflammation, for example, or make the body inhospitable to cancer cells. The\n"
     ]
    }
   ],
   "source": [
    "import requests\n",
    "import os\n",
    "\n",
    "api_key = os.getenv('FUNCTION_KEY')  # API key for authenticating with Azure Function App endpoint\n",
    "prompt = 'Why medicine?'\n",
    "\n",
    "model = 'gpt35a'  # model name: [mistral, llama, gpt35a, gpt35b, gpt4]\n",
    "use_rag = False  # whether to return a RAG response or a generic response without additional context\n",
    "\n",
    "response = requests.post(\n",
    "    url=f'https://med-app.azurewebsites.net/api/{model}?code={api_key}', \n",
    "    params={\"body\": prompt, \"use_rag\": use_rag}\n",
    ").json()\n",
    "\n",
    "print(\"Response: \", response['response'], '\\n')\n",
    "print(\"Sources: \", response['source'], '\\n')\n",
    "print(\"Context: \")\n",
    "for i, item in enumerate(response['context']):\n",
    "    print(f'{i+1}. {item}')"
   ]
  },
  {
   "cell_type": "markdown",
   "metadata": {},
   "source": [
    "To help visualize the dataset, the below code loads the CSV into a dataframe that shows each column"
   ]
  },
  {
   "cell_type": "code",
   "execution_count": 4,
   "metadata": {},
   "outputs": [
    {
     "data": {
      "text/html": [
       "<div>\n",
       "<style scoped>\n",
       "    .dataframe tbody tr th:only-of-type {\n",
       "        vertical-align: middle;\n",
       "    }\n",
       "\n",
       "    .dataframe tbody tr th {\n",
       "        vertical-align: top;\n",
       "    }\n",
       "\n",
       "    .dataframe thead th {\n",
       "        text-align: right;\n",
       "    }\n",
       "</style>\n",
       "<table border=\"1\" class=\"dataframe\">\n",
       "  <thead>\n",
       "    <tr style=\"text-align: right;\">\n",
       "      <th></th>\n",
       "      <th>title</th>\n",
       "      <th>text</th>\n",
       "      <th>url</th>\n",
       "      <th>chunks</th>\n",
       "    </tr>\n",
       "  </thead>\n",
       "  <tbody>\n",
       "    <tr>\n",
       "      <th>0</th>\n",
       "      <td>The Path to Becoming a Doctor Requires Stamina</td>\n",
       "      <td>Dr. Chris Meinzen is a hospitalist at St. Mary...</td>\n",
       "      <td>https://medium.com/an-idea/the-path-to-becomin...</td>\n",
       "      <td>Dr. Chris Meinzen is a hospitalist at St. Mary...</td>\n",
       "    </tr>\n",
       "    <tr>\n",
       "      <th>1</th>\n",
       "      <td>The Path to Becoming a Doctor Requires Stamina</td>\n",
       "      <td>Dr. Chris Meinzen is a hospitalist at St. Mary...</td>\n",
       "      <td>https://medium.com/an-idea/the-path-to-becomin...</td>\n",
       "      <td>seem the happiest in the hospitals. Maybe I sh...</td>\n",
       "    </tr>\n",
       "    <tr>\n",
       "      <th>2</th>\n",
       "      <td>The Path to Becoming a Doctor Requires Stamina</td>\n",
       "      <td>Dr. Chris Meinzen is a hospitalist at St. Mary...</td>\n",
       "      <td>https://medium.com/an-idea/the-path-to-becomin...</td>\n",
       "      <td>cultural experience, but it did make applying ...</td>\n",
       "    </tr>\n",
       "    <tr>\n",
       "      <th>3</th>\n",
       "      <td>The Path to Becoming a Doctor Requires Stamina</td>\n",
       "      <td>Dr. Chris Meinzen is a hospitalist at St. Mary...</td>\n",
       "      <td>https://medium.com/an-idea/the-path-to-becomin...</td>\n",
       "      <td>give to people interested in becoming a doctor...</td>\n",
       "    </tr>\n",
       "    <tr>\n",
       "      <th>4</th>\n",
       "      <td>The Path to Becoming a Doctor Requires Stamina</td>\n",
       "      <td>Dr. Chris Meinzen is a hospitalist at St. Mary...</td>\n",
       "      <td>https://medium.com/an-idea/the-path-to-becomin...</td>\n",
       "      <td>people want to live. Fortunately, I have conti...</td>\n",
       "    </tr>\n",
       "  </tbody>\n",
       "</table>\n",
       "</div>"
      ],
      "text/plain": [
       "                                            title  \\\n",
       "0  The Path to Becoming a Doctor Requires Stamina   \n",
       "1  The Path to Becoming a Doctor Requires Stamina   \n",
       "2  The Path to Becoming a Doctor Requires Stamina   \n",
       "3  The Path to Becoming a Doctor Requires Stamina   \n",
       "4  The Path to Becoming a Doctor Requires Stamina   \n",
       "\n",
       "                                                text  \\\n",
       "0  Dr. Chris Meinzen is a hospitalist at St. Mary...   \n",
       "1  Dr. Chris Meinzen is a hospitalist at St. Mary...   \n",
       "2  Dr. Chris Meinzen is a hospitalist at St. Mary...   \n",
       "3  Dr. Chris Meinzen is a hospitalist at St. Mary...   \n",
       "4  Dr. Chris Meinzen is a hospitalist at St. Mary...   \n",
       "\n",
       "                                                 url  \\\n",
       "0  https://medium.com/an-idea/the-path-to-becomin...   \n",
       "1  https://medium.com/an-idea/the-path-to-becomin...   \n",
       "2  https://medium.com/an-idea/the-path-to-becomin...   \n",
       "3  https://medium.com/an-idea/the-path-to-becomin...   \n",
       "4  https://medium.com/an-idea/the-path-to-becomin...   \n",
       "\n",
       "                                              chunks  \n",
       "0  Dr. Chris Meinzen is a hospitalist at St. Mary...  \n",
       "1  seem the happiest in the hospitals. Maybe I sh...  \n",
       "2  cultural experience, but it did make applying ...  \n",
       "3  give to people interested in becoming a doctor...  \n",
       "4  people want to live. Fortunately, I have conti...  "
      ]
     },
     "execution_count": 4,
     "metadata": {},
     "output_type": "execute_result"
    }
   ],
   "source": [
    "import pandas as pd\n",
    "\n",
    "df = pd.read_csv('data/data.csv')\n",
    "df.head()"
   ]
  }
 ],
 "metadata": {
  "kernelspec": {
   "display_name": ".venv",
   "language": "python",
   "name": "python3"
  },
  "language_info": {
   "codemirror_mode": {
    "name": "ipython",
    "version": 3
   },
   "file_extension": ".py",
   "mimetype": "text/x-python",
   "name": "python",
   "nbconvert_exporter": "python",
   "pygments_lexer": "ipython3",
   "version": "3.10.12"
  }
 },
 "nbformat": 4,
 "nbformat_minor": 2
}
