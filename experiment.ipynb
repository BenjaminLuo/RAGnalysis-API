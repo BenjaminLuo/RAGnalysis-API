{
 "cells": [
  {
   "cell_type": "markdown",
   "metadata": {},
   "source": [
    "### Experimentation Notebook\n",
    "\n",
    "This notebook demonstrates how calls can be made to the Azure Functions App once it is deployed"
   ]
  },
  {
   "cell_type": "code",
   "execution_count": null,
   "metadata": {},
   "outputs": [],
   "source": [
    "import requests\n",
    "import os\n",
    "import dotenv\n",
    "\n",
    "dotenv.load_dotenv()  # Load .env variables\n",
    "\n",
    "api_key = os.getenv('FUNCTION_KEY')  # API key for authenticating with Azure Function App endpoint\n",
    "prompt = 'Why medicine?'\n",
    "\n",
    "model = 'mistral'  # model name: [mistral, llama]\n",
    "use_rag = False  # whether to return a RAG response or a generic response without additional context\n",
    "\n",
    "response = requests.post(\n",
    "    url=f'https://med-app.azurewebsites.net/api/{model}?code={api_key}', \n",
    "    params={\"body\": prompt, \"use_rag\": use_rag}\n",
    ").json()\n",
    "\n",
    "print(\"Response: \", response['response'], '\\n')\n",
    "print(\"Sources: \", response['source'], '\\n')\n",
    "print(\"Context: \")\n",
    "for i, item in enumerate(response['context']):\n",
    "    print(f'{i+1}. {item}')"
   ]
  },
  {
   "cell_type": "markdown",
   "metadata": {},
   "source": [
    "To help visualize the dataset, the below code loads the CSV into a dataframe that shows each column"
   ]
  },
  {
   "cell_type": "code",
   "execution_count": 4,
   "metadata": {},
   "outputs": [
    {
     "data": {
      "text/html": [
       "<div>\n",
       "<style scoped>\n",
       "    .dataframe tbody tr th:only-of-type {\n",
       "        vertical-align: middle;\n",
       "    }\n",
       "\n",
       "    .dataframe tbody tr th {\n",
       "        vertical-align: top;\n",
       "    }\n",
       "\n",
       "    .dataframe thead th {\n",
       "        text-align: right;\n",
       "    }\n",
       "</style>\n",
       "<table border=\"1\" class=\"dataframe\">\n",
       "  <thead>\n",
       "    <tr style=\"text-align: right;\">\n",
       "      <th></th>\n",
       "      <th>title</th>\n",
       "      <th>text</th>\n",
       "      <th>url</th>\n",
       "      <th>chunks</th>\n",
       "    </tr>\n",
       "  </thead>\n",
       "  <tbody>\n",
       "    <tr>\n",
       "      <th>0</th>\n",
       "      <td>The Path to Becoming a Doctor Requires Stamina</td>\n",
       "      <td>Dr. Chris Meinzen is a hospitalist at St. Mary...</td>\n",
       "      <td>https://medium.com/an-idea/the-path-to-becomin...</td>\n",
       "      <td>Dr. Chris Meinzen is a hospitalist at St. Mary...</td>\n",
       "    </tr>\n",
       "    <tr>\n",
       "      <th>1</th>\n",
       "      <td>The Path to Becoming a Doctor Requires Stamina</td>\n",
       "      <td>Dr. Chris Meinzen is a hospitalist at St. Mary...</td>\n",
       "      <td>https://medium.com/an-idea/the-path-to-becomin...</td>\n",
       "      <td>seem the happiest in the hospitals. Maybe I sh...</td>\n",
       "    </tr>\n",
       "    <tr>\n",
       "      <th>2</th>\n",
       "      <td>The Path to Becoming a Doctor Requires Stamina</td>\n",
       "      <td>Dr. Chris Meinzen is a hospitalist at St. Mary...</td>\n",
       "      <td>https://medium.com/an-idea/the-path-to-becomin...</td>\n",
       "      <td>cultural experience, but it did make applying ...</td>\n",
       "    </tr>\n",
       "    <tr>\n",
       "      <th>3</th>\n",
       "      <td>The Path to Becoming a Doctor Requires Stamina</td>\n",
       "      <td>Dr. Chris Meinzen is a hospitalist at St. Mary...</td>\n",
       "      <td>https://medium.com/an-idea/the-path-to-becomin...</td>\n",
       "      <td>give to people interested in becoming a doctor...</td>\n",
       "    </tr>\n",
       "    <tr>\n",
       "      <th>4</th>\n",
       "      <td>The Path to Becoming a Doctor Requires Stamina</td>\n",
       "      <td>Dr. Chris Meinzen is a hospitalist at St. Mary...</td>\n",
       "      <td>https://medium.com/an-idea/the-path-to-becomin...</td>\n",
       "      <td>people want to live. Fortunately, I have conti...</td>\n",
       "    </tr>\n",
       "  </tbody>\n",
       "</table>\n",
       "</div>"
      ],
      "text/plain": [
       "                                            title  \\\n",
       "0  The Path to Becoming a Doctor Requires Stamina   \n",
       "1  The Path to Becoming a Doctor Requires Stamina   \n",
       "2  The Path to Becoming a Doctor Requires Stamina   \n",
       "3  The Path to Becoming a Doctor Requires Stamina   \n",
       "4  The Path to Becoming a Doctor Requires Stamina   \n",
       "\n",
       "                                                text  \\\n",
       "0  Dr. Chris Meinzen is a hospitalist at St. Mary...   \n",
       "1  Dr. Chris Meinzen is a hospitalist at St. Mary...   \n",
       "2  Dr. Chris Meinzen is a hospitalist at St. Mary...   \n",
       "3  Dr. Chris Meinzen is a hospitalist at St. Mary...   \n",
       "4  Dr. Chris Meinzen is a hospitalist at St. Mary...   \n",
       "\n",
       "                                                 url  \\\n",
       "0  https://medium.com/an-idea/the-path-to-becomin...   \n",
       "1  https://medium.com/an-idea/the-path-to-becomin...   \n",
       "2  https://medium.com/an-idea/the-path-to-becomin...   \n",
       "3  https://medium.com/an-idea/the-path-to-becomin...   \n",
       "4  https://medium.com/an-idea/the-path-to-becomin...   \n",
       "\n",
       "                                              chunks  \n",
       "0  Dr. Chris Meinzen is a hospitalist at St. Mary...  \n",
       "1  seem the happiest in the hospitals. Maybe I sh...  \n",
       "2  cultural experience, but it did make applying ...  \n",
       "3  give to people interested in becoming a doctor...  \n",
       "4  people want to live. Fortunately, I have conti...  "
      ]
     },
     "execution_count": 4,
     "metadata": {},
     "output_type": "execute_result"
    }
   ],
   "source": [
    "import pandas as pd\n",
    "\n",
    "df = pd.read_csv('data/data.csv')\n",
    "df.head()"
   ]
  }
 ],
 "metadata": {
  "kernelspec": {
   "display_name": ".venv",
   "language": "python",
   "name": "python3"
  },
  "language_info": {
   "codemirror_mode": {
    "name": "ipython",
    "version": 3
   },
   "file_extension": ".py",
   "mimetype": "text/x-python",
   "name": "python",
   "nbconvert_exporter": "python",
   "pygments_lexer": "ipython3",
   "version": "3.10.12"
  }
 },
 "nbformat": 4,
 "nbformat_minor": 2
}
