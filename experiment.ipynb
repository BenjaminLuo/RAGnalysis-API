{
 "cells": [
  {
   "cell_type": "markdown",
   "metadata": {},
   "source": [
    "### Experimentation Notebook\n",
    "\n",
    "This notebook demonstrates how calls can be made to the Azure Functions App"
   ]
  },
  {
   "cell_type": "code",
   "execution_count": 1,
   "metadata": {},
   "outputs": [],
   "source": [
    "# %pip install -r requirements.txt"
   ]
  },
  {
   "cell_type": "code",
   "execution_count": 2,
   "metadata": {},
   "outputs": [],
   "source": [
    "from api.app import RagnalysisClient\n",
    "from dotenv import load_dotenv\n",
    "\n",
    "load_dotenv()\n",
    "\n",
    "client = RagnalysisClient()"
   ]
  },
  {
   "cell_type": "code",
   "execution_count": 3,
   "metadata": {},
   "outputs": [
    {
     "data": {
      "text/plain": [
       "['llama', 'mistral', 'gpt3s', 'gpt3l', 'gpt4', 'qwen']"
      ]
     },
     "execution_count": 3,
     "metadata": {},
     "output_type": "execute_result"
    }
   ],
   "source": [
    "# List models\n",
    "client.get_models()"
   ]
  },
  {
   "cell_type": "code",
   "execution_count": 7,
   "metadata": {},
   "outputs": [
    {
     "name": "stdout",
     "output_type": "stream",
     "text": [
      "{ 'parameters': { 'body': 'What is StatsCan?',\n",
      "                  'chunk_limit': 150,\n",
      "                  'do_sample': True,\n",
      "                  'frequency_penalty': 0.0,\n",
      "                  'k': 3,\n",
      "                  'max_new_tokens': 200,\n",
      "                  'model': 'gpt35_4k',\n",
      "                  'presence_penalty': 0.0,\n",
      "                  'prompt': 'Answer: What is StatsCan? using: and public service wide results to participating departments in the form of tables and aggregate datasets. The results will be publicly available on Canada.ca and OpenData. As TBS is committed to improving people management practices in the federal public service, TBS and StatCan will also conduct analysis and create reports, infographics and summary tables to provide departments and agencies with continuous data and to support evidence-based decision-making in people management practices in | accordance with confidentiality requirements (see Section 5). Approval for the publication of tables or other statistical output either electronically or in print must be sought from StatCan. Data Users should send such tables or other statistical output to DCAP. StatCan will endeavour to complete their review within two weeks of receipt and will inform the Provincial and Territorial Vital Statistics Registrars of the topics covered. Approval is not required for tables or other '\n",
      "                            \"statistical | Census and population data Every 5 years, Statistics Canada (StatCan) collects demographic data on the Canadian population (citizens, landed immigrants and non-permanent residents in Canada). Between each census, StatCan estimates and projects the population using census and administrative data and through a sample, cross-sectional survey. Population estimates are by age, sex and geography. PHAC's population projection data also includes statistical tables on Aboriginal population projections\",\n",
      "                  'temperature': 0.9,\n",
      "                  'top_p': 0.9,\n",
      "                  'use_rag': True},\n",
      "  'response': \"StatsCan is an abbreviation for Statistics Canada. It is an agency of the Canadian government responsible for collecting, analyzing, and disseminating statistical information about Canada's population, economy, and society. StatsCan conducts various surveys, censuses, and data collection initiatives to provide accurate and reliable statistical data to the public, government departments, and other stakeholders. The data collected by StatsCan is used for research, policy development, and decision-making purposes. The agency publishes its findings on Canada.ca and OpenData, making them publicly available. Additionally, StatsCan collaborates with other government departments, such as the Treasury Board Secretariat (TBS), to provide data and analysis to support evidence-based decision-making in areas like people management practices.\",\n",
      "  'sources': [ {'chunks': 'and public service wide results to participating departments in the form of tables and aggregate datasets. The results will be publicly available on Canada.ca and OpenData. As TBS is committed to improving people management practices in the federal public service, TBS and StatCan will also conduct analysis and create reports, infographics and summary tables to provide departments and agencies with continuous data and to support evidence-based decision-making in people management practices in', 'similarity': 0.8351043462753296, 'title': 'Questions and Answers - PSES', 'url': 'https://mysource.hc-sc.gc.ca/en/ss/government-initiatives/public-service-employee-survey-pses/questions-and-answers-pses'},\n",
      "               {'chunks': 'accordance with confidentiality requirements (see Section 5). Approval for the publication of tables or other statistical output either electronically or in print must be sought from StatCan. Data Users should send such tables or other statistical output to DCAP. StatCan will endeavour to complete their review within two weeks of receipt and will inform the Provincial and Territorial Vital Statistics Registrars of the topics covered. Approval is not required for tables or other statistical', 'similarity': 0.8281676173210144, 'title': 'Terms and Conditions for the Use of Protected Data Managed by the Data Coordination and Access Program (DCAP)', 'url': 'https://mysource.hc-sc.gc.ca/en/phac/strategic-focus/science-phac/data-phac/policies-laws-and-frameworks/terms-and-conditions-use'},\n",
      "               {'chunks': \"Census and population data Every 5 years, Statistics Canada (StatCan) collects demographic data on the Canadian population (citizens, landed immigrants and non-permanent residents in Canada). Between each census, StatCan estimates and projects the population using census and administrative data and through a sample, cross-sectional survey. Population estimates are by age, sex and geography. PHAC's population projection data also includes statistical tables on Aboriginal population projections\", 'similarity': 0.822974681854248, 'title': 'Census and population data', 'url': 'https://mysource.hc-sc.gc.ca/en/phac/strategic-focus/science-phac/data-phac/get-data/census-and-population-data'}]}\n"
     ]
    }
   ],
   "source": [
    "# RAG\n",
    "from pprint import pprint\n",
    "\n",
    "response = client.gpt3s('What is StatsCan?', use_rag=True)\n",
    "\n",
    "pprint(response, indent=2, width=1050)"
   ]
  },
  {
   "cell_type": "code",
   "execution_count": 1,
   "metadata": {},
   "outputs": [
    {
     "ename": "NameError",
     "evalue": "name 'client' is not defined",
     "output_type": "error",
     "traceback": [
      "\u001b[0;31m---------------------------------------------------------------------------\u001b[0m",
      "\u001b[0;31mNameError\u001b[0m                                 Traceback (most recent call last)",
      "Cell \u001b[0;32mIn[1], line 2\u001b[0m\n\u001b[1;32m      1\u001b[0m \u001b[38;5;66;03m# Configuration\u001b[39;00m\n\u001b[0;32m----> 2\u001b[0m response \u001b[38;5;241m=\u001b[39m \u001b[43mclient\u001b[49m\u001b[38;5;241m.\u001b[39mgpt3s(\n\u001b[1;32m      3\u001b[0m                 prompt \u001b[38;5;241m=\u001b[39m                \u001b[38;5;124m'\u001b[39m\u001b[38;5;124mWhat is life?\u001b[39m\u001b[38;5;124m'\u001b[39m,\n\u001b[1;32m      4\u001b[0m                 use_rag \u001b[38;5;241m=\u001b[39m               \u001b[38;5;28;01mFalse\u001b[39;00m,\n\u001b[1;32m      5\u001b[0m                 temperature \u001b[38;5;241m=\u001b[39m           \u001b[38;5;241m0.9\u001b[39m,\n\u001b[1;32m      6\u001b[0m                 top_p \u001b[38;5;241m=\u001b[39m                 \u001b[38;5;241m0.9\u001b[39m,\n\u001b[1;32m      7\u001b[0m                 do_sample \u001b[38;5;241m=\u001b[39m             \u001b[38;5;28;01mTrue\u001b[39;00m,\n\u001b[1;32m      8\u001b[0m                 frequency_penalty \u001b[38;5;241m=\u001b[39m     \u001b[38;5;241m0\u001b[39m,\n\u001b[1;32m      9\u001b[0m                 presence_penalty \u001b[38;5;241m=\u001b[39m      \u001b[38;5;241m0\u001b[39m,\n\u001b[1;32m     10\u001b[0m                 max_new_tokens \u001b[38;5;241m=\u001b[39m        \u001b[38;5;241m200\u001b[39m,\n\u001b[1;32m     11\u001b[0m                 chunk_limit \u001b[38;5;241m=\u001b[39m           \u001b[38;5;241m150\u001b[39m,\n\u001b[1;32m     12\u001b[0m                 k \u001b[38;5;241m=\u001b[39m                     \u001b[38;5;241m3\u001b[39m\n\u001b[1;32m     13\u001b[0m             )\n\u001b[1;32m     15\u001b[0m pprint(response, indent\u001b[38;5;241m=\u001b[39m\u001b[38;5;241m2\u001b[39m, width\u001b[38;5;241m=\u001b[39m\u001b[38;5;241m400\u001b[39m)\n",
      "\u001b[0;31mNameError\u001b[0m: name 'client' is not defined"
     ]
    }
   ],
   "source": [
    "# Configuration\n",
    "response = client.gpt3s(\n",
    "                prompt =                'What is life?',\n",
    "                use_rag =               False,\n",
    "                temperature =           0.9,\n",
    "                top_p =                 0.9,\n",
    "                do_sample =             True,\n",
    "                frequency_penalty =     0,\n",
    "                presence_penalty =      0,\n",
    "                max_new_tokens =        200,\n",
    "                chunk_limit =           150,\n",
    "                k =                     3\n",
    "            )\n",
    "\n",
    "pprint(response, indent=2, width=400)"
   ]
  }
 ],
 "metadata": {
  "kernelspec": {
   "display_name": ".venv",
   "language": "python",
   "name": "python3"
  },
  "language_info": {
   "codemirror_mode": {
    "name": "ipython",
    "version": 3
   },
   "file_extension": ".py",
   "mimetype": "text/x-python",
   "name": "python",
   "nbconvert_exporter": "python",
   "pygments_lexer": "ipython3",
   "version": "3.11.6"
  }
 },
 "nbformat": 4,
 "nbformat_minor": 2
}
