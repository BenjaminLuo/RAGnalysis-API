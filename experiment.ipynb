{
 "cells": [
  {
   "cell_type": "markdown",
   "metadata": {},
   "source": [
    "### Experimentation Notebook\n",
    "\n",
    "This notebook demonstrates how calls can be made to the Azure Functions App once it is deployed"
   ]
  },
  {
   "cell_type": "code",
   "execution_count": 20,
   "metadata": {},
   "outputs": [
    {
     "name": "stdout",
     "output_type": "stream",
     "text": [
      "Response:  applicants should demonstrate a genuine interest in various fields of medicine and a willingness to explore different specialties throughout their training.\n",
      "\n",
      "Ultimately, becoming a doctor requires a strong passion for helping others and a dedication to lifelong learning. It is not a career for those seeking quick financial gain or looking to avoid witnessing difficult and often heartbreaking situations. It requires a deep understanding of the challenges and sacrifices that come with the profession.\n",
      "\n",
      "However, despite the challenges, being a doctor can also be incredibly rewarding. The ability to make a positive impact on people's lives, provide comfort and care during times of illness, and contribute to medical advancements are all reasons why many choose to pursue a career in medicine.\n",
      "\n",
      "When considering whether to become a doctor, it is important to reflect on your motivations. Are you pursuing this path for personal fulfillment and a genuine desire to help others, or are external pressures and expectations influencing your decision? It is crucial to prioritize your own happiness and fulfillment in making this career choice.\n",
      "\n",
      "In conclusion, becoming a doctor is \n",
      "\n",
      "Sources:                                title  similarity\n",
      "Why I No Longer Want To Be A Doctor    0.867056\n",
      "Why I No Longer Want To Be A Doctor    0.859909\n",
      "  Is a BS/MD program right for you?    0.857125 \n",
      "\n",
      "Context: \n",
      "1. 40s or 50s. This is why they said do not go into medicine for the money. It’s not worth it. Sometimes during residency, one might be expected to work 120 hours per week while earning 50k per year. That’s less than the minimum wage if you break it down by the hour! While I never wanted to become a doctor solely for financial compensation, the high-income potential was a motivator for me. Seeing them break down a doctor’s operating expense and how much they would actually be paying back opened my eyes. And for the first time, I started to really think about my choice. In addition, many aspired to become a doctor because they want to help others who are sick and ill feel better. However, the untold truth is countless deaths that the physician has to witness and hopefully recover. In many cases, they will have to see sick, dying, miserable patients day in and day out. It can be extremely unpleasant to watch your patients die while You couldn’t do anything about it. Sadly, many patients\n",
      "2. we would be motivated to justify our choices and think that it is the right one. The fact that 1 in 2 doctors wouldn’t choose to be one if given the choice is alarming. It’s certainly not an easy career. This is something to note for those of you interested in becoming a doctor. Regrets are not uncommon. Lastly, ask yourself this question. Are you doing this for yourself or for others? Doctors are admirable characters. We look up to them for their vast array of knowledge and a keen interest in helping those in need. Some of your parents might even have persuaded you that it is a good career to pursue. You know how proud they would be if you become a doctor. Perhaps you already told someone else of your dream and you’re afraid to back up now. I know I was in that boat. I didn’t want to go back to high school reunion not having achieve my goals. But remember, this is your life. You don’t get to live in one more time. You only get one shot at this life. Make sure you are making these\n",
      "3. and not simply be a part of the healthcare industry. A common question in UK medical school interviews is ‘why not be a nurse?’. This question is highly applicable to all students considering a career as a doctor and is particularly challenging no matter an applicant’s dedication to becoming a doctor. Medicine is such a diverse field and BS/MD applicants are expected to understand why they are choosing to become a doctor when they can find other fulfilling careers with patients in the healthcare industry. → What kind of doctor do you want to be? No one expects BS/MD applicants to know exactly what specialty they want to pursue, but the idea here, is to stress the importance of understanding that our training as medics is a journey and not a race. BS/MD programs can be extremely fulfilling, but this is dependent on accepted students making the most of their time in these programs. Therefore, one important aspect of student’s applications is to show diversity of thought and study. BS/MD\n"
     ]
    }
   ],
   "source": [
    "import requests\n",
    "import os\n",
    "import dotenv\n",
    "\n",
    "dotenv.load_dotenv()\n",
    "\n",
    "api_key = os.getenv('FUNCTION_KEY')  # API key for authenticating with Azure Function App endpoint\n",
    "prompt = 'Why become a doctor?'\n",
    "\n",
    "model = 'gpt35a'  # model name: [mistral, llama, gpt35a, gpt35b, gpt4]\n",
    "use_rag = True  # whether to return a RAG response or a generic response without additional context\n",
    "\n",
    "response = requests.post(\n",
    "    url=f'https://med-app.azurewebsites.net/api/{model}?code={api_key}', \n",
    "    params={\n",
    "        \"body\": prompt, \n",
    "        \"use_rag\": use_rag,\n",
    "        \"temperature\": 0.9,\n",
    "        \"top_p\": 0.9,\n",
    "        \"do_sample\": True,\n",
    "        \"frequency_penalty\": 0,\n",
    "        \"presence_penalty\": 0,\n",
    "        \"max_new_tokens\": 200,\n",
    "        \"chunk_limit\": 150,\n",
    "        \"k\": 3\n",
    "    }\n",
    ").json()\n",
    "\n",
    "print(\"Response: \", response['response'], '\\n')\n",
    "print(\"Sources: \", response['source'], '\\n')\n",
    "print(\"Context: \")\n",
    "for i, item in enumerate(response['context']):\n",
    "    print(f'{i+1}. {item}')"
   ]
  },
  {
   "cell_type": "markdown",
   "metadata": {},
   "source": [
    "To help visualize the dataset, the below code loads the CSV into a dataframe that shows each column"
   ]
  },
  {
   "cell_type": "code",
   "execution_count": null,
   "metadata": {},
   "outputs": [],
   "source": [
    "import pandas as pd\n",
    "\n",
    "df = pd.read_csv('data/data.csv')\n",
    "df.head()"
   ]
  }
 ],
 "metadata": {
  "kernelspec": {
   "display_name": ".venv",
   "language": "python",
   "name": "python3"
  },
  "language_info": {
   "codemirror_mode": {
    "name": "ipython",
    "version": 3
   },
   "file_extension": ".py",
   "mimetype": "text/x-python",
   "name": "python",
   "nbconvert_exporter": "python",
   "pygments_lexer": "ipython3",
   "version": "3.10.12"
  }
 },
 "nbformat": 4,
 "nbformat_minor": 2
}
