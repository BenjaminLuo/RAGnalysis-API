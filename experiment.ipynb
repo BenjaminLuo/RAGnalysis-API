{
 "cells": [
  {
   "cell_type": "markdown",
   "metadata": {},
   "source": [
    "### Experimentation Notebook\n",
    "\n",
    "This notebook demonstrates how calls can be made to the Azure Functions App"
   ]
  },
  {
   "cell_type": "code",
   "execution_count": 2,
   "metadata": {},
   "outputs": [],
   "source": [
    "from api.app import RagnalysisClient\n",
    "\n",
    "client = RagnalysisClient()"
   ]
  },
  {
   "cell_type": "code",
   "execution_count": 2,
   "metadata": {},
   "outputs": [
    {
     "data": {
      "text/plain": [
       "['llama', 'mistral', 'gpt35a', 'gpt35b', 'gpt4']"
      ]
     },
     "execution_count": 2,
     "metadata": {},
     "output_type": "execute_result"
    }
   ],
   "source": [
    "# List models\n",
    "client.get_models()"
   ]
  },
  {
   "cell_type": "code",
   "execution_count": 4,
   "metadata": {},
   "outputs": [
    {
     "data": {
      "text/plain": [
       "{'response': \"is a complex and nuanced phenomenon that we have the power to shape and create. It is not a one-size-fits-all concept, and different individuals may experience it differently. Religious guidelines, such as those outlined in the Torah or Old Testament, can provide a robust infrastructure for life but do not guarantee salvation for all.\\n\\nHaving a support system consisting of family, friends, community, clergy, clinical professionals, prayer, exposure to nature, art, and a higher purpose can greatly enhance one's experience of life. However, it is important to exercise caution and respect others' feelings and experiences, as we may not always understand what someone else is going through.\\n\\nIn times of danger or emergencies, it is crucial to take action to save lives and seek help from hotlines, doctors, or emergency services like 911. Advancements in medicine and drug development, driven by organizations like LifeArc, Keytruda, the Juvenile Diabetes Research Foundation, Emerson Collective, PICI, and the Michael J.\",\n",
       " 'source': '                                                        title  similarity\\n                                         Working for my dream    0.830395\\n                  “Learning about mental health in Community”    0.818414\\nAxial — Observations #40. Get these analyses to your inbox —…    0.816087',\n",
       " 'context': ['I now turn to my calling, promising to preserve its finest traditions, with the reward of long experience in the joy of healing. This promise is made freely and without coercion. Life is what we make it, always has been, always will be. The best way to predict your own future is to create it and live to it. It is under the greatest adversity that there exists the greatest potential for doing well.',\n",
       "  'regular lives. The Torah or Old Testament outlines +600 guidelines for how to live — from business ethics, to martial relations, to food, and more. Religious guidelines do not save all but they do provide a robust infrastructure for life. Support systems ideally consist of many factors: family, friends, community, clergy, clinical professionals, prayer, exposure to nature, art, and a higher purpose. Life is not a one size fits all. For example, once there was a joyful wedding and the guests danced with glee. One individual remained outside the dance circle. The question arose: should we pull them in? It seemed like a nice thing to do, to encourage them to be happy. But what if the person is feeling too depressed to join in? We do not know what others are feeling. Life is complex and nuanced so we exercise caution (Lekutei Moharan). If a life is in danger, we take action to save lives. American trends and Judaism both say, in an emergency, call a hotline, a doctor, 911, inquire about',\n",
       "  'the development of new medicines with Orkambi (a combination of Kalydeco and Lumacaftor) recently approved for CF and ensure patient access to these transformative drugs. Other examples of successful patient-driven drug development are LifeArc and Keytruda along with the Juvenile Diabetes Research Foundation, Emerson Collective, PICI, and the Michael J. Fox Foundation. These groups have the power to lower the barriers for drug development in particular diseases by providing patients, scientific expertise, and capital. A revolution for BMTs Orca Bio published recent data at ASH https://orcabio.com/ASH_2020_Orca_Bio.pdf after years of work to show massive reductions in GvHD. Congratulations to Ivan, Nate, and everyone on the team. The best is yet to come. What is Life? cont. In Chapter 6 (Order, Disorder, and Entropy) of What is Life?, Schrödinger discusses the interplay of order and disorder for life. In short, he concludes a major feature of life is its ability to export entropy. Life'],\n",
       " 'parameters': {'body': 'What is life?',\n",
       "  'model': 'gpt35_4k',\n",
       "  'use_rag': True,\n",
       "  'temperature': 0.9,\n",
       "  'top_p': 0.9,\n",
       "  'do_sample': True,\n",
       "  'frequency_penalty': 0.0,\n",
       "  'presence_penalty': 0.0,\n",
       "  'max_new_tokens': 200,\n",
       "  'chunk_limit': 150,\n",
       "  'k': 3,\n",
       "  'prompt': 'Answer: What is life? using: I now turn to my calling, promising to preserve its finest traditions, with the reward of long experience in the joy of healing. This promise is made freely and without coercion. Life is what we make it, always has been, always will be. The best way to predict your own future is to create it and live to it. It is under the greatest adversity that there exists the greatest potential for doing well. | regular lives. The Torah or Old Testament outlines +600 guidelines for how to live — from business ethics, to martial relations, to food, and more. Religious guidelines do not save all but they do provide a robust infrastructure for life. Support systems ideally consist of many factors: family, friends, community, clergy, clinical professionals, prayer, exposure to nature, art, and a higher purpose. Life is not a one size fits all. For example, once there was a joyful wedding and the guests danced with glee. One individual remained outside the dance circle. The question arose: should we pull them in? It seemed like a nice thing to do, to encourage them to be happy. But what if the person is feeling too depressed to join in? We do not know what others are feeling. Life is complex and nuanced so we exercise caution (Lekutei Moharan). If a life is in danger, we take action to save lives. American trends and Judaism both say, in an emergency, call a hotline, a doctor, 911, inquire about | the development of new medicines with Orkambi (a combination of Kalydeco and Lumacaftor) recently approved for CF and ensure patient access to these transformative drugs. Other examples of successful patient-driven drug development are LifeArc and Keytruda along with the Juvenile Diabetes Research Foundation, Emerson Collective, PICI, and the Michael J. Fox Foundation. These groups have the power to lower the barriers for drug development in particular diseases by providing patients, scientific expertise, and capital. A revolution for BMTs Orca Bio published recent data at ASH https://orcabio.com/ASH_2020_Orca_Bio.pdf after years of work to show massive reductions in GvHD. Congratulations to Ivan, Nate, and everyone on the team. The best is yet to come. What is Life? cont. In Chapter 6 (Order, Disorder, and Entropy) of What is Life?, Schrödinger discusses the interplay of order and disorder for life. In short, he concludes a major feature of life is its ability to export entropy. Life'}}"
      ]
     },
     "execution_count": 4,
     "metadata": {},
     "output_type": "execute_result"
    }
   ],
   "source": [
    "# RAG\n",
    "client.gpt3s('What is life?')"
   ]
  },
  {
   "cell_type": "code",
   "execution_count": 3,
   "metadata": {},
   "outputs": [
    {
     "data": {
      "text/plain": [
       "{'response': 'Life can be defined as the state of being alive, characterized by various physical and mental processes, growth, reproduction, and the ability to respond to stimuli. It encompasses the existence, activities, and experiences of living organisms, including humans, animals, plants, and microorganisms. Life is often considered to be a complex and dynamic phenomenon, with unique qualities and characteristics that distinguish it from inanimate objects or non-living matter.',\n",
       " 'source': '                                                        title  similarity\\n                                         Working for my dream    0.830395\\n                  “Learning about mental health in Community”    0.818414\\nAxial — Observations #40. Get these analyses to your inbox —…    0.816087\\n                                 On Eating Medicine By a Fire    0.812229\\n                                 On Eating Medicine By a Fire    0.806545',\n",
       " 'context': ['I now turn to my calling, promising to preserve its finest traditions, with the reward of long experience in the joy of healing. This promise is made freely and without coercion. Life is what we make it, always has been, always will be. The best way to predict your own future is to create it and live to it. It is under the greatest adversity that there exists the greatest potential for doing well.',\n",
       "  'regular lives. The Torah or Old Testament outlines +600 guidelines for how to live — from business ethics, to martial relations, to food, and more. Religious guidelines do not save all but they do provide a robust infrastructure for life. Support systems ideally consist of many factors: family, friends, community, clergy, clinical professionals, prayer, exposure to nature, art, and a higher purpose. Life is not a one size fits all. For example, once there was a joyful wedding and the guests danced with glee. One individual remained outside the dance circle. The question arose: should we pull them in? It seemed like a nice thing to do, to encourage them to be happy. But what if the person is feeling too depressed to join in? We do not know what others are feeling. Life is complex and nuanced so we exercise caution (Lekutei Moharan). If a life is in danger, we take action to save lives. American trends and Judaism both say, in an emergency, call a hotline, a doctor, 911, inquire about',\n",
       "  'the development of new medicines with Orkambi (a combination of Kalydeco and Lumacaftor) recently approved for CF and ensure patient access to these transformative drugs. Other examples of successful patient-driven drug development are LifeArc and Keytruda along with the Juvenile Diabetes Research Foundation, Emerson Collective, PICI, and the Michael J. Fox Foundation. These groups have the power to lower the barriers for drug development in particular diseases by providing patients, scientific expertise, and capital. A revolution for BMTs Orca Bio published recent data at ASH https://orcabio.com/ASH_2020_Orca_Bio.pdf after years of work to show massive reductions in GvHD. Congratulations to Ivan, Nate, and everyone on the team. The best is yet to come. What is Life? cont. In Chapter 6 (Order, Disorder, and Entropy) of What is Life?, Schrödinger discusses the interplay of order and disorder for life. In short, he concludes a major feature of life is its ability to export entropy. Life',\n",
       "  \"Show Up. In any way, for your own Life. Everything follows from that. Show up, and Come Home. We all came Home that night, and into the landing strip of the following morning. We rode that ship all night together. We're still here. And I thought, yesterday and upon waking today, about this life journey. What it means to do the right thing. And the words came back to me: Do everything with Love. Honour Life. And this one thing I learned from Joseph Campbell: The greatest privilege of a lifetime is being You. May All Sentient Beings be Released from Pain and Suffering. – All My Relations.\",\n",
       "  \"When Gabriel died just a few days later I saw what had been witnessed that day as a direct indication of the most intimate of relationships, between life, and death. One carries the other. The seed of our death is planted in our birth. This is the walk each of us makes. The very act of my writing this and your reading is but one proof. But, it goes further. I had the blessing to sit up with the Spirit of the Deer, Holy Medicine, this weekend, to help our friend who is making that walk. There was so much beauty, sacrifice, willingness for those of us who gathered. When you find those who've recognised their blessings (their very lives, for starters), and devote themselves in service to Life, who continually honour both Life and Death, who commit to this path while moving through the sands of time, through all the difficulties and seeming contradictions of this human world, you find so many other things beside. You discover you are a flame reflecting other flames, and as your Spirits\"],\n",
       " 'parameters': {'body': 'What is life?',\n",
       "  'model': 'gpt35_4k',\n",
       "  'use_rag': False,\n",
       "  'temperature': 0.9,\n",
       "  'top_p': 0.9,\n",
       "  'do_sample': True,\n",
       "  'frequency_penalty': 0.0,\n",
       "  'presence_penalty': 0.0,\n",
       "  'max_new_tokens': 200,\n",
       "  'chunk_limit': 150,\n",
       "  'k': 5,\n",
       "  'prompt': 'Answer: What is life? '}}"
      ]
     },
     "execution_count": 3,
     "metadata": {},
     "output_type": "execute_result"
    }
   ],
   "source": [
    "# Configuration\n",
    "client.gpt3s(\n",
    "    prompt =                'What is life?',\n",
    "    use_rag =               False,\n",
    "    temperature =           0.9,\n",
    "    top_p =                 0.9,\n",
    "    do_sample =             True,\n",
    "    frequency_penalty =     0,\n",
    "    presence_penalty =      0,\n",
    "    max_new_tokens =        200,\n",
    "    chunk_limit =           150,\n",
    "    k =                     5\n",
    ")"
   ]
  }
 ],
 "metadata": {
  "kernelspec": {
   "display_name": ".venv",
   "language": "python",
   "name": "python3"
  },
  "language_info": {
   "codemirror_mode": {
    "name": "ipython",
    "version": 3
   },
   "file_extension": ".py",
   "mimetype": "text/x-python",
   "name": "python",
   "nbconvert_exporter": "python",
   "pygments_lexer": "ipython3",
   "version": "3.10.12"
  }
 },
 "nbformat": 4,
 "nbformat_minor": 2
}
