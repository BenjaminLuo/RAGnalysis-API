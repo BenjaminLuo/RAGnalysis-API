{
 "cells": [
  {
   "cell_type": "markdown",
   "metadata": {},
   "source": [
    "### Experimentation Notebook\n",
    "\n",
    "This notebook demonstrates how calls can be made to the Azure Functions App"
   ]
  },
  {
   "cell_type": "code",
   "execution_count": 4,
   "metadata": {},
   "outputs": [
    {
     "name": "stdout",
     "output_type": "stream",
     "text": [
      "Requirement already satisfied: packaging in ./function_app/.venv/lib/python3.11/site-packages (from -r requirements.txt (line 1)) (24.0)\n",
      "Requirement already satisfied: requests in ./function_app/.venv/lib/python3.11/site-packages (from -r requirements.txt (line 2)) (2.31.0)\n",
      "Collecting python-dotenv (from -r requirements.txt (line 3))\n",
      "  Using cached python_dotenv-1.0.1-py3-none-any.whl.metadata (23 kB)\n",
      "Requirement already satisfied: charset-normalizer<4,>=2 in ./function_app/.venv/lib/python3.11/site-packages (from requests->-r requirements.txt (line 2)) (3.3.2)\n",
      "Requirement already satisfied: idna<4,>=2.5 in ./function_app/.venv/lib/python3.11/site-packages (from requests->-r requirements.txt (line 2)) (3.6)\n",
      "Requirement already satisfied: urllib3<3,>=1.21.1 in ./function_app/.venv/lib/python3.11/site-packages (from requests->-r requirements.txt (line 2)) (2.2.1)\n",
      "Requirement already satisfied: certifi>=2017.4.17 in ./function_app/.venv/lib/python3.11/site-packages (from requests->-r requirements.txt (line 2)) (2024.2.2)\n",
      "Using cached python_dotenv-1.0.1-py3-none-any.whl (19 kB)\n",
      "Installing collected packages: python-dotenv\n",
      "Successfully installed python-dotenv-1.0.1\n",
      "Note: you may need to restart the kernel to use updated packages.\n"
     ]
    }
   ],
   "source": [
    "%pip install -r requirements.txt"
   ]
  },
  {
   "cell_type": "code",
   "execution_count": 5,
   "metadata": {},
   "outputs": [],
   "source": [
    "from api.app import RagnalysisClient\n",
    "from dotenv import load_dotenv\n",
    "\n",
    "load_dotenv()\n",
    "\n",
    "client = RagnalysisClient()"
   ]
  },
  {
   "cell_type": "code",
   "execution_count": 6,
   "metadata": {},
   "outputs": [
    {
     "data": {
      "text/plain": [
       "['llama', 'mistral', 'gpt3s', 'gpt3l', 'gpt4', 'qwen']"
      ]
     },
     "execution_count": 6,
     "metadata": {},
     "output_type": "execute_result"
    }
   ],
   "source": [
    "# List models\n",
    "client.get_models()"
   ]
  },
  {
   "cell_type": "code",
   "execution_count": 7,
   "metadata": {},
   "outputs": [
    {
     "name": "stdout",
     "output_type": "stream",
     "text": [
      "{ 'id': 1711387268.7867286,\n",
      "  'logs': {'cost': {'embed': 4.08e-07, 'llm': 0, 'total': 0}, 'entity': '', 'runtime': {'embed': 0.32, 'entity_extraction': 0.0, 'generate': 1.93, 'search': 9.47, 'total': 11.73}, 'tokens': {'embed': {'in': 3, 'out': 1536}, 'llm': {'in': 218, 'out': 89}}},\n",
      "  'parameters': { 'body': 'What is StatsCan?',\n",
      "                  'chunk_limit': 150,\n",
      "                  'do_sample': True,\n",
      "                  'frequency_penalty': 0.0,\n",
      "                  'k': 3,\n",
      "                  'max_new_tokens': 200,\n",
      "                  'model': 'gpt35_4k',\n",
      "                  'presence_penalty': 0.0,\n",
      "                  'prompt': 'Answer: What is StatsCan? using: and public service wide results to participating departments in the form of tables and aggregate datasets. The results will be publicly available on Canada.ca and OpenData. As TBS is committed to improving people management practices in the federal public service, TBS and StatCan will also conduct analysis and create reports, infographics and summary tables to provide departments and agencies with continuous data and to support evidence-based decision-making in people management practices in | accordance with confidentiality requirements (see Section 5). Approval for the publication of tables or other statistical output either electronically or in print must be sought from StatCan. Data Users should send such tables or other statistical output to DCAP. StatCan will endeavour to complete their review within two weeks of receipt and will inform the Provincial and Territorial Vital Statistics Registrars of the topics covered. Approval is not required for tables or other '\n",
      "                            \"statistical | Census and population data Every 5 years, Statistics Canada (StatCan) collects demographic data on the Canadian population (citizens, landed immigrants and non-permanent residents in Canada). Between each census, StatCan estimates and projects the population using census and administrative data and through a sample, cross-sectional survey. Population estimates are by age, sex and geography. PHAC's population projection data also includes statistical tables on Aboriginal population projections\",\n",
      "                  'temperature': 0.9,\n",
      "                  'top_p': 0.9,\n",
      "                  'use_rag': True},\n",
      "  'response': 'StatsCan, short for Statistics Canada, is a federal government agency responsible for collecting, analyzing, and disseminating statistical information about Canada and its population. It conducts various surveys and studies to gather data on demographics, social and economic conditions, and other topics of interest to the government and the public. The agency provides data and reports to government departments, agencies, researchers, and the general public to support evidence-based decision-making and policy development. The information collected by StatsCan includes census data, population estimates, economic indicators, and other social and demographic statistics.',\n",
      "  'sources': [ {'chunks': 'and public service wide results to participating departments in the form of tables and aggregate datasets. The results will be publicly available on Canada.ca and OpenData. As TBS is committed to improving people management practices in the federal public service, TBS and StatCan will also conduct analysis and create reports, infographics and summary tables to provide departments and agencies with continuous data and to support evidence-based decision-making in people management practices in', 'similarity': 0.8351043462753296, 'title': 'Questions and Answers - PSES', 'url': 'https://mysource.hc-sc.gc.ca/en/ss/government-initiatives/public-service-employee-survey-pses/questions-and-answers-pses'},\n",
      "               {'chunks': 'accordance with confidentiality requirements (see Section 5). Approval for the publication of tables or other statistical output either electronically or in print must be sought from StatCan. Data Users should send such tables or other statistical output to DCAP. StatCan will endeavour to complete their review within two weeks of receipt and will inform the Provincial and Territorial Vital Statistics Registrars of the topics covered. Approval is not required for tables or other statistical', 'similarity': 0.8281676173210144, 'title': 'Terms and Conditions for the Use of Protected Data Managed by the Data Coordination and Access Program (DCAP)', 'url': 'https://mysource.hc-sc.gc.ca/en/phac/strategic-focus/science-phac/data-phac/policies-laws-and-frameworks/terms-and-conditions-use'},\n",
      "               {'chunks': \"Census and population data Every 5 years, Statistics Canada (StatCan) collects demographic data on the Canadian population (citizens, landed immigrants and non-permanent residents in Canada). Between each census, StatCan estimates and projects the population using census and administrative data and through a sample, cross-sectional survey. Population estimates are by age, sex and geography. PHAC's population projection data also includes statistical tables on Aboriginal population projections\", 'similarity': 0.822974681854248, 'title': 'Census and population data', 'url': 'https://mysource.hc-sc.gc.ca/en/phac/strategic-focus/science-phac/data-phac/get-data/census-and-population-data'}]}\n"
     ]
    }
   ],
   "source": [
    "# RAG\n",
    "from pprint import pprint\n",
    "\n",
    "response = client.gpt3s('What is StatsCan?', use_rag=True)\n",
    "\n",
    "pprint(response, indent=2, width=1050)"
   ]
  },
  {
   "cell_type": "code",
   "execution_count": 5,
   "metadata": {},
   "outputs": [
    {
     "name": "stdout",
     "output_type": "stream",
     "text": [
      "<Response [200]>\n",
      "{ 'parameters': {'body': 'What is life?', 'chunk_limit': 150, 'do_sample': True, 'frequency_penalty': 0.0, 'k': 3, 'max_new_tokens': 200, 'model': 'gpt35_4k', 'presence_penalty': 0.0, 'prompt': 'Answer: What is life? ', 'temperature': 0.9, 'top_p': 0.9, 'use_rag': False},\n",
      "  'response': 'Life can be defined as the condition or quality that distinguishes living organisms from inanimate objects or dead organisms. It involves processes such as growth, reproduction, metabolism, response to stimuli, and adaptation to the environment. Life is characterized by the presence of cells, genetic material, and the ability to evolve and change over time. It encompasses a wide '\n",
      "              'range of forms and functions, from simple single-celled organisms to complex multicellular organisms, including humans. Ultimately, life is a phenomenon that is still being studied and understood by scientists and philosophers alike.',\n",
      "  'sources': [ { 'chunks': '\"Life and death coincide, but no one prepares you for death.” It was like any other Thursday morning in May, the cold air was beginning to settle outside, the sun would peak through the clouds a little bit earlier each day, and stay for a little bit longer each night. I was in a meeting when I saw a text light up on my phone. I peered down to read the first sentence. '\n",
      "                           'It started with “I don’t know how to say this…” and it ended with “she’s gone.” I know it is not possible for the world to stop',\n",
      "                 'similarity': 0.7962584495544434,\n",
      "                 'title': '\"Life and death coincide, but no one prepares you for death.”',\n",
      "                 'url': 'https://mysource.hc-sc.gc.ca/en/ss/my-workplace/mental-health-workplace/voices-mental-health/listen-stories/life-and-death-coincide'},\n",
      "               { 'chunks': 'leading experts discuss health and wellness issues that matter to you. What is LifeSpeak? LifeSpeak is a confidential, bilingual, e-learning platform that offers expert-led content on many wellness themes. To access this resource, type canada in the Access ID field, then select your organization. Available any day, any time, from any device connected to the Internet, '\n",
      "                           'LifeSpeak’s digital library includes nearly 1,000 videos, podcasts, blog posts and tip sheets on topics like sleep issues,',\n",
      "                 'similarity': 0.791310727596283,\n",
      "                 'title': 'LifeSpeak: Resources for Leading a Healthy Lifestyle',\n",
      "                 'url': 'https://mysource.hc-sc.gc.ca/en/ss/my-workplace/mental-health-workplace/lifespeak-resources-leading-healthy-lifestyle'},\n",
      "               { 'chunks': '(password: canada) to set up counselling. Visit LifeSpeak (Access ID: canada), a digital platform with over 1,400 videos, expert blogs and tip sheets on various mental health and wellness topics, including suicide prevention. Should we tell our children everything? Over the last few years, the world has experienced several traumatic events: a pandemic that has kept us '\n",
      "                           'in a state of chronic stress for two years, high inflation, attacks and mass murders, a war in Ukraine, and climate concerns.',\n",
      "                 'similarity': 0.791014552116394,\n",
      "                 'title': 'Employee Assistance Program  Newsletters',\n",
      "                 'url': 'https://mysource.hc-sc.gc.ca/en/ss/my-workplace/employee-assistance-program/employee-assistance-program-newsletters'}]}\n"
     ]
    }
   ],
   "source": [
    "# Configuration\n",
    "response = client.gpt3s(\n",
    "                prompt =                'What is life?',\n",
    "                use_rag =               False,\n",
    "                temperature =           0.9,\n",
    "                top_p =                 0.9,\n",
    "                do_sample =             True,\n",
    "                frequency_penalty =     0,\n",
    "                presence_penalty =      0,\n",
    "                max_new_tokens =        200,\n",
    "                chunk_limit =           150,\n",
    "                k =                     3\n",
    "            )\n",
    "\n",
    "pprint(response, indent=2, width=400)"
   ]
  }
 ],
 "metadata": {
  "kernelspec": {
   "display_name": ".venv",
   "language": "python",
   "name": "python3"
  },
  "language_info": {
   "codemirror_mode": {
    "name": "ipython",
    "version": 3
   },
   "file_extension": ".py",
   "mimetype": "text/x-python",
   "name": "python",
   "nbconvert_exporter": "python",
   "pygments_lexer": "ipython3",
   "version": "3.11.6"
  }
 },
 "nbformat": 4,
 "nbformat_minor": 2
}
